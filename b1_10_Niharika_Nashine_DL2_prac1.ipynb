{
  "cells": [
    {
      "cell_type": "markdown",
      "metadata": {
        "id": "R1Exp3dGASIM"
      },
      "source": [
        "###Name : Niharika Nashine\n",
        "###Batch : B1\n",
        "###Roll no : 10\n",
        "###Deep Learning  II Practical 1\n",
        "###Baysian Network:-\n"
      ]
    },
    {
      "cell_type": "markdown",
      "metadata": {
        "id": "7a_Pgt6YwTv9"
      },
      "source": [
        "### Module 1: Introduction to Graphical Model - Joint Probability Distribution"
      ]
    },
    {
      "cell_type": "code",
      "execution_count": null,
      "metadata": {
        "colab": {
          "base_uri": "https://localhost:8080/",
          "height": 206
        },
        "id": "swR2qYiiwTwA",
        "outputId": "2ce8204f-4ec3-47f1-8d20-a3cdf960e72a"
      },
      "outputs": [
        {
          "data": {
            "application/vnd.google.colaboratory.intrinsic+json": {
              "summary": "{\n  \"name\": \"data\",\n  \"rows\": 400,\n  \"fields\": [\n    {\n      \"column\": \"User ID\",\n      \"properties\": {\n        \"dtype\": \"number\",\n        \"std\": 71658,\n        \"min\": 15566689,\n        \"max\": 15815236,\n        \"num_unique_values\": 400,\n        \"samples\": [\n          15697424,\n          15609669,\n          15776733\n        ],\n        \"semantic_type\": \"\",\n        \"description\": \"\"\n      }\n    },\n    {\n      \"column\": \"Gender\",\n      \"properties\": {\n        \"dtype\": \"category\",\n        \"num_unique_values\": 2,\n        \"samples\": [\n          \"Female\",\n          \"Male\"\n        ],\n        \"semantic_type\": \"\",\n        \"description\": \"\"\n      }\n    },\n    {\n      \"column\": \"Age\",\n      \"properties\": {\n        \"dtype\": \"number\",\n        \"std\": 10,\n        \"min\": 18,\n        \"max\": 60,\n        \"num_unique_values\": 43,\n        \"samples\": [\n          50,\n          39\n        ],\n        \"semantic_type\": \"\",\n        \"description\": \"\"\n      }\n    },\n    {\n      \"column\": \"EstimatedSalary\",\n      \"properties\": {\n        \"dtype\": \"number\",\n        \"std\": 34096,\n        \"min\": 15000,\n        \"max\": 150000,\n        \"num_unique_values\": 117,\n        \"samples\": [\n          117000,\n          76000\n        ],\n        \"semantic_type\": \"\",\n        \"description\": \"\"\n      }\n    },\n    {\n      \"column\": \"Purchased\",\n      \"properties\": {\n        \"dtype\": \"number\",\n        \"std\": 0,\n        \"min\": 0,\n        \"max\": 1,\n        \"num_unique_values\": 2,\n        \"samples\": [\n          1,\n          0\n        ],\n        \"semantic_type\": \"\",\n        \"description\": \"\"\n      }\n    }\n  ]\n}",
              "type": "dataframe",
              "variable_name": "data"
            },
            "text/html": [
              "\n",
              "  <div id=\"df-f2277cbd-5cac-414f-8984-09ea9f2d85e1\" class=\"colab-df-container\">\n",
              "    <div>\n",
              "<style scoped>\n",
              "    .dataframe tbody tr th:only-of-type {\n",
              "        vertical-align: middle;\n",
              "    }\n",
              "\n",
              "    .dataframe tbody tr th {\n",
              "        vertical-align: top;\n",
              "    }\n",
              "\n",
              "    .dataframe thead th {\n",
              "        text-align: right;\n",
              "    }\n",
              "</style>\n",
              "<table border=\"1\" class=\"dataframe\">\n",
              "  <thead>\n",
              "    <tr style=\"text-align: right;\">\n",
              "      <th></th>\n",
              "      <th>User ID</th>\n",
              "      <th>Gender</th>\n",
              "      <th>Age</th>\n",
              "      <th>EstimatedSalary</th>\n",
              "      <th>Purchased</th>\n",
              "    </tr>\n",
              "  </thead>\n",
              "  <tbody>\n",
              "    <tr>\n",
              "      <th>0</th>\n",
              "      <td>15624510</td>\n",
              "      <td>Male</td>\n",
              "      <td>19</td>\n",
              "      <td>19000</td>\n",
              "      <td>0</td>\n",
              "    </tr>\n",
              "    <tr>\n",
              "      <th>1</th>\n",
              "      <td>15810944</td>\n",
              "      <td>Male</td>\n",
              "      <td>35</td>\n",
              "      <td>20000</td>\n",
              "      <td>0</td>\n",
              "    </tr>\n",
              "    <tr>\n",
              "      <th>2</th>\n",
              "      <td>15668575</td>\n",
              "      <td>Female</td>\n",
              "      <td>26</td>\n",
              "      <td>43000</td>\n",
              "      <td>0</td>\n",
              "    </tr>\n",
              "    <tr>\n",
              "      <th>3</th>\n",
              "      <td>15603246</td>\n",
              "      <td>Female</td>\n",
              "      <td>27</td>\n",
              "      <td>57000</td>\n",
              "      <td>0</td>\n",
              "    </tr>\n",
              "    <tr>\n",
              "      <th>4</th>\n",
              "      <td>15804002</td>\n",
              "      <td>Male</td>\n",
              "      <td>19</td>\n",
              "      <td>76000</td>\n",
              "      <td>0</td>\n",
              "    </tr>\n",
              "  </tbody>\n",
              "</table>\n",
              "</div>\n",
              "    <div class=\"colab-df-buttons\">\n",
              "\n",
              "  <div class=\"colab-df-container\">\n",
              "    <button class=\"colab-df-convert\" onclick=\"convertToInteractive('df-f2277cbd-5cac-414f-8984-09ea9f2d85e1')\"\n",
              "            title=\"Convert this dataframe to an interactive table.\"\n",
              "            style=\"display:none;\">\n",
              "\n",
              "  <svg xmlns=\"http://www.w3.org/2000/svg\" height=\"24px\" viewBox=\"0 -960 960 960\">\n",
              "    <path d=\"M120-120v-720h720v720H120Zm60-500h600v-160H180v160Zm220 220h160v-160H400v160Zm0 220h160v-160H400v160ZM180-400h160v-160H180v160Zm440 0h160v-160H620v160ZM180-180h160v-160H180v160Zm440 0h160v-160H620v160Z\"/>\n",
              "  </svg>\n",
              "    </button>\n",
              "\n",
              "  <style>\n",
              "    .colab-df-container {\n",
              "      display:flex;\n",
              "      gap: 12px;\n",
              "    }\n",
              "\n",
              "    .colab-df-convert {\n",
              "      background-color: #E8F0FE;\n",
              "      border: none;\n",
              "      border-radius: 50%;\n",
              "      cursor: pointer;\n",
              "      display: none;\n",
              "      fill: #1967D2;\n",
              "      height: 32px;\n",
              "      padding: 0 0 0 0;\n",
              "      width: 32px;\n",
              "    }\n",
              "\n",
              "    .colab-df-convert:hover {\n",
              "      background-color: #E2EBFA;\n",
              "      box-shadow: 0px 1px 2px rgba(60, 64, 67, 0.3), 0px 1px 3px 1px rgba(60, 64, 67, 0.15);\n",
              "      fill: #174EA6;\n",
              "    }\n",
              "\n",
              "    .colab-df-buttons div {\n",
              "      margin-bottom: 4px;\n",
              "    }\n",
              "\n",
              "    [theme=dark] .colab-df-convert {\n",
              "      background-color: #3B4455;\n",
              "      fill: #D2E3FC;\n",
              "    }\n",
              "\n",
              "    [theme=dark] .colab-df-convert:hover {\n",
              "      background-color: #434B5C;\n",
              "      box-shadow: 0px 1px 3px 1px rgba(0, 0, 0, 0.15);\n",
              "      filter: drop-shadow(0px 1px 2px rgba(0, 0, 0, 0.3));\n",
              "      fill: #FFFFFF;\n",
              "    }\n",
              "  </style>\n",
              "\n",
              "    <script>\n",
              "      const buttonEl =\n",
              "        document.querySelector('#df-f2277cbd-5cac-414f-8984-09ea9f2d85e1 button.colab-df-convert');\n",
              "      buttonEl.style.display =\n",
              "        google.colab.kernel.accessAllowed ? 'block' : 'none';\n",
              "\n",
              "      async function convertToInteractive(key) {\n",
              "        const element = document.querySelector('#df-f2277cbd-5cac-414f-8984-09ea9f2d85e1');\n",
              "        const dataTable =\n",
              "          await google.colab.kernel.invokeFunction('convertToInteractive',\n",
              "                                                    [key], {});\n",
              "        if (!dataTable) return;\n",
              "\n",
              "        const docLinkHtml = 'Like what you see? Visit the ' +\n",
              "          '<a target=\"_blank\" href=https://colab.research.google.com/notebooks/data_table.ipynb>data table notebook</a>'\n",
              "          + ' to learn more about interactive tables.';\n",
              "        element.innerHTML = '';\n",
              "        dataTable['output_type'] = 'display_data';\n",
              "        await google.colab.output.renderOutput(dataTable, element);\n",
              "        const docLink = document.createElement('div');\n",
              "        docLink.innerHTML = docLinkHtml;\n",
              "        element.appendChild(docLink);\n",
              "      }\n",
              "    </script>\n",
              "  </div>\n",
              "\n",
              "\n",
              "    <div id=\"df-c1af8ab2-28fa-44c6-93a4-a1890a21f9e9\">\n",
              "      <button class=\"colab-df-quickchart\" onclick=\"quickchart('df-c1af8ab2-28fa-44c6-93a4-a1890a21f9e9')\"\n",
              "                title=\"Suggest charts\"\n",
              "                style=\"display:none;\">\n",
              "\n",
              "<svg xmlns=\"http://www.w3.org/2000/svg\" height=\"24px\"viewBox=\"0 0 24 24\"\n",
              "     width=\"24px\">\n",
              "    <g>\n",
              "        <path d=\"M19 3H5c-1.1 0-2 .9-2 2v14c0 1.1.9 2 2 2h14c1.1 0 2-.9 2-2V5c0-1.1-.9-2-2-2zM9 17H7v-7h2v7zm4 0h-2V7h2v10zm4 0h-2v-4h2v4z\"/>\n",
              "    </g>\n",
              "</svg>\n",
              "      </button>\n",
              "\n",
              "<style>\n",
              "  .colab-df-quickchart {\n",
              "      --bg-color: #E8F0FE;\n",
              "      --fill-color: #1967D2;\n",
              "      --hover-bg-color: #E2EBFA;\n",
              "      --hover-fill-color: #174EA6;\n",
              "      --disabled-fill-color: #AAA;\n",
              "      --disabled-bg-color: #DDD;\n",
              "  }\n",
              "\n",
              "  [theme=dark] .colab-df-quickchart {\n",
              "      --bg-color: #3B4455;\n",
              "      --fill-color: #D2E3FC;\n",
              "      --hover-bg-color: #434B5C;\n",
              "      --hover-fill-color: #FFFFFF;\n",
              "      --disabled-bg-color: #3B4455;\n",
              "      --disabled-fill-color: #666;\n",
              "  }\n",
              "\n",
              "  .colab-df-quickchart {\n",
              "    background-color: var(--bg-color);\n",
              "    border: none;\n",
              "    border-radius: 50%;\n",
              "    cursor: pointer;\n",
              "    display: none;\n",
              "    fill: var(--fill-color);\n",
              "    height: 32px;\n",
              "    padding: 0;\n",
              "    width: 32px;\n",
              "  }\n",
              "\n",
              "  .colab-df-quickchart:hover {\n",
              "    background-color: var(--hover-bg-color);\n",
              "    box-shadow: 0 1px 2px rgba(60, 64, 67, 0.3), 0 1px 3px 1px rgba(60, 64, 67, 0.15);\n",
              "    fill: var(--button-hover-fill-color);\n",
              "  }\n",
              "\n",
              "  .colab-df-quickchart-complete:disabled,\n",
              "  .colab-df-quickchart-complete:disabled:hover {\n",
              "    background-color: var(--disabled-bg-color);\n",
              "    fill: var(--disabled-fill-color);\n",
              "    box-shadow: none;\n",
              "  }\n",
              "\n",
              "  .colab-df-spinner {\n",
              "    border: 2px solid var(--fill-color);\n",
              "    border-color: transparent;\n",
              "    border-bottom-color: var(--fill-color);\n",
              "    animation:\n",
              "      spin 1s steps(1) infinite;\n",
              "  }\n",
              "\n",
              "  @keyframes spin {\n",
              "    0% {\n",
              "      border-color: transparent;\n",
              "      border-bottom-color: var(--fill-color);\n",
              "      border-left-color: var(--fill-color);\n",
              "    }\n",
              "    20% {\n",
              "      border-color: transparent;\n",
              "      border-left-color: var(--fill-color);\n",
              "      border-top-color: var(--fill-color);\n",
              "    }\n",
              "    30% {\n",
              "      border-color: transparent;\n",
              "      border-left-color: var(--fill-color);\n",
              "      border-top-color: var(--fill-color);\n",
              "      border-right-color: var(--fill-color);\n",
              "    }\n",
              "    40% {\n",
              "      border-color: transparent;\n",
              "      border-right-color: var(--fill-color);\n",
              "      border-top-color: var(--fill-color);\n",
              "    }\n",
              "    60% {\n",
              "      border-color: transparent;\n",
              "      border-right-color: var(--fill-color);\n",
              "    }\n",
              "    80% {\n",
              "      border-color: transparent;\n",
              "      border-right-color: var(--fill-color);\n",
              "      border-bottom-color: var(--fill-color);\n",
              "    }\n",
              "    90% {\n",
              "      border-color: transparent;\n",
              "      border-bottom-color: var(--fill-color);\n",
              "    }\n",
              "  }\n",
              "</style>\n",
              "\n",
              "      <script>\n",
              "        async function quickchart(key) {\n",
              "          const quickchartButtonEl =\n",
              "            document.querySelector('#' + key + ' button');\n",
              "          quickchartButtonEl.disabled = true;  // To prevent multiple clicks.\n",
              "          quickchartButtonEl.classList.add('colab-df-spinner');\n",
              "          try {\n",
              "            const charts = await google.colab.kernel.invokeFunction(\n",
              "                'suggestCharts', [key], {});\n",
              "          } catch (error) {\n",
              "            console.error('Error during call to suggestCharts:', error);\n",
              "          }\n",
              "          quickchartButtonEl.classList.remove('colab-df-spinner');\n",
              "          quickchartButtonEl.classList.add('colab-df-quickchart-complete');\n",
              "        }\n",
              "        (() => {\n",
              "          let quickchartButtonEl =\n",
              "            document.querySelector('#df-c1af8ab2-28fa-44c6-93a4-a1890a21f9e9 button');\n",
              "          quickchartButtonEl.style.display =\n",
              "            google.colab.kernel.accessAllowed ? 'block' : 'none';\n",
              "        })();\n",
              "      </script>\n",
              "    </div>\n",
              "\n",
              "    </div>\n",
              "  </div>\n"
            ],
            "text/plain": [
              "    User ID  Gender  Age  EstimatedSalary  Purchased\n",
              "0  15624510    Male   19            19000          0\n",
              "1  15810944    Male   35            20000          0\n",
              "2  15668575  Female   26            43000          0\n",
              "3  15603246  Female   27            57000          0\n",
              "4  15804002    Male   19            76000          0"
            ]
          },
          "execution_count": 2,
          "metadata": {},
          "output_type": "execute_result"
        }
      ],
      "source": [
        "# Reading the Data using pandas\n",
        "import pandas as pd\n",
        "data = pd.read_csv('/content/Purchase Behavior.csv')\n",
        "data.head()"
      ]
    },
    {
      "cell_type": "code",
      "execution_count": null,
      "metadata": {
        "colab": {
          "base_uri": "https://localhost:8080/"
        },
        "id": "lUDY_Nz3w3y8",
        "outputId": "71c962b1-ed27-42d9-ad35-8e9c9b77b88e"
      },
      "outputs": [
        {
          "data": {
            "text/plain": [
              "(400, 5)"
            ]
          },
          "execution_count": 3,
          "metadata": {},
          "output_type": "execute_result"
        }
      ],
      "source": [
        "data.shape"
      ]
    },
    {
      "cell_type": "code",
      "execution_count": null,
      "metadata": {
        "colab": {
          "base_uri": "https://localhost:8080/"
        },
        "id": "JzZSMOOswTwB",
        "outputId": "a6db9ecf-38a3-4e01-a707-13998828ee9c"
      },
      "outputs": [
        {
          "name": "stdout",
          "output_type": "stream",
          "text": [
            "Joint Probability based on Gender \n",
            " Gender  Purchased\n",
            "Female  0            0.3175\n",
            "        1            0.1925\n",
            "Male    0            0.3250\n",
            "        1            0.1650\n",
            "dtype: float64\n"
          ]
        }
      ],
      "source": [
        "#Joint Probability\n",
        "joint_prob_Gender = data.groupby(['Gender','Purchased']).size()/400\n",
        "print(\"Joint Probability based on Gender \\n\", joint_prob_Gender, end=\"\\n\")\n"
      ]
    },
    {
      "cell_type": "code",
      "execution_count": null,
      "metadata": {
        "colab": {
          "base_uri": "https://localhost:8080/"
        },
        "id": "RkAb53ugwTwC",
        "outputId": "29560840-5da2-4ebd-aaf3-7d540c6abfa5"
      },
      "outputs": [
        {
          "name": "stdout",
          "output_type": "stream",
          "text": [
            "Joint Probability based on Age \n",
            "  Age  Purchased\n",
            "18   0            0.0125\n",
            "19   0            0.0175\n",
            "20   0            0.0175\n",
            "21   0            0.0100\n",
            "22   0            0.0125\n",
            "                   ...  \n",
            "57   1            0.0125\n",
            "58   1            0.0150\n",
            "59   0            0.0050\n",
            "     1            0.0125\n",
            "60   1            0.0175\n",
            "Length: 70, dtype: float64\n"
          ]
        }
      ],
      "source": [
        "#Joint Probability\n",
        "joint_prob_Age = data.groupby(['Age','Purchased']).size()/400\n",
        "print(\"Joint Probability based on Age \\n \", joint_prob_Age, end=\"\\n\")\n"
      ]
    },
    {
      "cell_type": "code",
      "execution_count": null,
      "metadata": {
        "colab": {
          "base_uri": "https://localhost:8080/"
        },
        "id": "aiBLugsJwTwC",
        "outputId": "b22ba666-3c8b-4ccd-aa37-f2ed3bc49f7e"
      },
      "outputs": [
        {
          "name": "stdout",
          "output_type": "stream",
          "text": [
            "Joint Probability based on Age, Gender \n",
            " Age  Gender  Purchased\n",
            "18   Female  0            0.0075\n",
            "     Male    0            0.0050\n",
            "19   Female  0            0.0050\n",
            "     Male    0            0.0125\n",
            "20   Female  0            0.0100\n",
            "                           ...  \n",
            "59   Female  0            0.0050\n",
            "             1            0.0075\n",
            "     Male    1            0.0050\n",
            "60   Female  1            0.0050\n",
            "     Male    1            0.0125\n",
            "Length: 119, dtype: float64\n"
          ]
        }
      ],
      "source": [
        "#Joint Probability\n",
        "Joint_Prob_Age_Gender = data.groupby(['Age','Gender','Purchased']).size()/400\n",
        "print(\"Joint Probability based on Age, Gender \\n\", Joint_Prob_Age_Gender, end=\"\\n\")"
      ]
    },
    {
      "cell_type": "markdown",
      "metadata": {
        "id": "WoXyxXw6bRuN"
      },
      "source": [
        " Q1: What is the joint probability of a Male aged 35 purchasing a car?"
      ]
    },
    {
      "cell_type": "code",
      "execution_count": null,
      "metadata": {
        "colab": {
          "base_uri": "https://localhost:8080/"
        },
        "id": "_j4xjl-RwTwD",
        "outputId": "621f3a95-a1f7-4a37-cd4a-befea3cfc081"
      },
      "outputs": [
        {
          "name": "stdout",
          "output_type": "stream",
          "text": [
            "Joint Probability (Male, Age 35, Purchased=1): 0.0025\n"
          ]
        }
      ],
      "source": [
        "prob_q1 = Joint_Prob_Age_Gender.get((35, 'Male', 1), 0)\n",
        "print(f\"Joint Probability (Male, Age 35, Purchased=1): {prob_q1}\")\n"
      ]
    },
    {
      "cell_type": "markdown",
      "metadata": {
        "id": "B9fjr0kEbVfM"
      },
      "source": [
        "Q2: What is the joint probability of a Female aged 40 NOT purchasing a car?"
      ]
    },
    {
      "cell_type": "code",
      "execution_count": null,
      "metadata": {
        "colab": {
          "base_uri": "https://localhost:8080/"
        },
        "id": "YBIxhH4Fa0W9",
        "outputId": "d2221bae-e76c-4347-cef0-dfad09bf5af4"
      },
      "outputs": [
        {
          "name": "stdout",
          "output_type": "stream",
          "text": [
            "Joint Probability (Female, Age 40, Purchased=0): 0.0075\n"
          ]
        }
      ],
      "source": [
        "prob_q2 = Joint_Prob_Age_Gender.get((40, 'Female', 0), 0)\n",
        "print(f\"Joint Probability (Female, Age 40, Purchased=0): {prob_q2}\")\n"
      ]
    },
    {
      "cell_type": "markdown",
      "metadata": {
        "id": "bFcGtgnzbh5l"
      },
      "source": [
        "Q3: What is the total joint probability for Age 25, regardless of Gender or Purchase?"
      ]
    },
    {
      "cell_type": "code",
      "execution_count": null,
      "metadata": {
        "colab": {
          "base_uri": "https://localhost:8080/"
        },
        "id": "SJnGqU6abaiI",
        "outputId": "81e7a8c6-d3f8-488c-ecf6-18abd0006848"
      },
      "outputs": [
        {
          "name": "stdout",
          "output_type": "stream",
          "text": [
            "Total Joint Probability for Age 25: 0.015\n"
          ]
        }
      ],
      "source": [
        "age_25_data = data[data['Age'] == 25]\n",
        "prob_q3 = len(age_25_data) / 400\n",
        "print(f\"Total Joint Probability for Age 25: {prob_q3}\")\n"
      ]
    },
    {
      "cell_type": "markdown",
      "metadata": {
        "id": "Wtco5TLxbtD8"
      },
      "source": [
        "Q4: What is the conditional probability of purchase given Male and Age 50?"
      ]
    },
    {
      "cell_type": "code",
      "execution_count": null,
      "metadata": {
        "colab": {
          "base_uri": "https://localhost:8080/"
        },
        "id": "q3Jv-H0vbmfJ",
        "outputId": "e60072b7-1d36-4687-916c-0588ba6578b0"
      },
      "outputs": [
        {
          "name": "stdout",
          "output_type": "stream",
          "text": [
            "Conditional Probability (Male, Age 50, Purchased=1 | Male, Age 50): 0\n"
          ]
        }
      ],
      "source": [
        "subset_q4 = data[(data['Age'] == 50) & (data['Gender'] == 'Male')]\n",
        "purchased_q4 = subset_q4[subset_q4['Purchased'] == 1]\n",
        "prob_q4 = len(purchased_q4) / len(subset_q4) if len(subset_q4) > 0 else 0\n",
        "print(f\"Conditional Probability (Male, Age 50, Purchased=1 | Male, Age 50): {prob_q4}\")\n"
      ]
    },
    {
      "cell_type": "markdown",
      "metadata": {
        "id": "uUBwnX4rb1p2"
      },
      "source": [
        "Q5: For all Females, what is the probability of purchasing a car?"
      ]
    },
    {
      "cell_type": "code",
      "execution_count": null,
      "metadata": {
        "colab": {
          "base_uri": "https://localhost:8080/"
        },
        "id": "zqj5A28RbzOm",
        "outputId": "471eac9d-aff9-49ad-f63d-c68f0784b769"
      },
      "outputs": [
        {
          "name": "stdout",
          "output_type": "stream",
          "text": [
            "Probability (Female, Purchased=1): 0.37745098039215685\n"
          ]
        }
      ],
      "source": [
        "female_data = data[data['Gender'] == 'Female']\n",
        "purchased_female = female_data[female_data['Purchased'] == 1]\n",
        "prob_q5 = len(purchased_female) / len(female_data) if len(female_data) > 0 else 0\n",
        "print(f\"Probability (Female, Purchased=1): {prob_q5}\")\n"
      ]
    },
    {
      "cell_type": "markdown",
      "metadata": {
        "id": "wNh3eng6cICF"
      },
      "source": [
        "6. Calculate the joint probability that a customer is 30 years old, male, and purchased a car.\n",
        "\n",
        "7. Determine the joint probability for a female aged 40 who did not purchase a car.\n",
        "\n",
        "8. What is the joint probability that a randomly selected individual aged 50, regardless of gender, has purchased a car?\n",
        "\n",
        "9. If the joint probability of purchasing a car at age 28 for males is 0.06 and for females is 0.04, what is the total joint probability for age 28?\n",
        "\n",
        "10. For age 45, if the joint probability of purchasing a car for males is 0.08 and not purchasing is 0.02, what is the conditional probability of purchasing given the person is a 45-year-old male?"
      ]
    },
    {
      "cell_type": "markdown",
      "metadata": {
        "id": "JKvPP6Tp96Rz"
      },
      "source": [
        "#### Assignment\n"
      ]
    },
    {
      "cell_type": "markdown",
      "metadata": {
        "id": "KBkGH6KL-JQK"
      },
      "source": [
        "6:-"
      ]
    },
    {
      "cell_type": "code",
      "execution_count": null,
      "metadata": {
        "colab": {
          "base_uri": "https://localhost:8080/"
        },
        "id": "QLV5s_9Yb3bA",
        "outputId": "4f7216bf-ef1e-4c64-d9a9-8e505d33999a"
      },
      "outputs": [
        {
          "name": "stdout",
          "output_type": "stream",
          "text": [
            "Joint Probability (Age 30, Male, Purchased=1): 0.005\n"
          ]
        }
      ],
      "source": [
        "prob_q6 = Joint_Prob_Age_Gender.get((30, 'Male', 1), 0)\n",
        "print(f\"Joint Probability (Age 30, Male, Purchased=1): {prob_q6}\")"
      ]
    },
    {
      "cell_type": "markdown",
      "metadata": {
        "id": "6Jsr0Noy-lgU"
      },
      "source": [
        "7:"
      ]
    },
    {
      "cell_type": "code",
      "execution_count": null,
      "metadata": {
        "colab": {
          "base_uri": "https://localhost:8080/"
        },
        "id": "9gJyddag-e0U",
        "outputId": "f9adb018-1a8e-4497-afa5-6e41d8304e8d"
      },
      "outputs": [
        {
          "name": "stdout",
          "output_type": "stream",
          "text": [
            "Joint Probability (Age 40, Female, Purchased=0): 0.0075\n"
          ]
        }
      ],
      "source": [
        "prob_q7 = Joint_Prob_Age_Gender.get((40, 'Female', 0), 0)\n",
        "print(f\"Joint Probability (Age 40, Female, Purchased=0): {prob_q7}\")"
      ]
    },
    {
      "cell_type": "markdown",
      "metadata": {
        "id": "3bWFV6OF_MAf"
      },
      "source": [
        "8:"
      ]
    },
    {
      "cell_type": "code",
      "execution_count": null,
      "metadata": {
        "colab": {
          "base_uri": "https://localhost:8080/"
        },
        "id": "kJcRc8DQ_QLe",
        "outputId": "2aa257de-7173-49b1-f4d2-602500236c2b"
      },
      "outputs": [
        {
          "name": "stdout",
          "output_type": "stream",
          "text": [
            "Joint Probability (Age 50, Purchased=1): 0.0075\n"
          ]
        }
      ],
      "source": [
        "prob_q8 = Joint_Prob_Age_Gender.get((50, 'Male', 1), 0) + Joint_Prob_Age_Gender.get((50, 'Female', 1), 0)\n",
        "print(f\"Joint Probability (Age 50, Purchased=1): {prob_q8}\")"
      ]
    },
    {
      "cell_type": "markdown",
      "metadata": {
        "id": "kQBSgVpO_k-j"
      },
      "source": [
        "9:"
      ]
    },
    {
      "cell_type": "code",
      "execution_count": null,
      "metadata": {
        "colab": {
          "base_uri": "https://localhost:8080/"
        },
        "id": "nJ_PyIvL_Yqz",
        "outputId": "5951ec23-561e-4ade-aaaf-30bd28b73447"
      },
      "outputs": [
        {
          "name": "stdout",
          "output_type": "stream",
          "text": [
            "Total Joint Probability for Age 28: 0.1\n"
          ]
        }
      ],
      "source": [
        "joint_prob_male_p_age_28 = 0.06\n",
        "joint_prob_female_p_age_28 = 0.04\n",
        "total_joint_prob_age_28 = joint_prob_male_p_age_28 + joint_prob_female_p_age_28\n",
        "print(f\"Total Joint Probability for Age 28: {total_joint_prob_age_28}\")"
      ]
    },
    {
      "cell_type": "markdown",
      "metadata": {
        "id": "NoHjduNM_oGT"
      },
      "source": [
        "9:"
      ]
    },
    {
      "cell_type": "code",
      "execution_count": null,
      "metadata": {
        "colab": {
          "base_uri": "https://localhost:8080/"
        },
        "id": "rSI_u6tL_cO2",
        "outputId": "338757d6-ddfb-42e1-c98d-e7dfe1978788"
      },
      "outputs": [
        {
          "name": "stdout",
          "output_type": "stream",
          "text": [
            "Conditional Probability (Purchased=1 | Age 45, Male): 0.7999999999999999\n"
          ]
        }
      ],
      "source": [
        "joint_prob_male_45_p = 0.08\n",
        "joint_prob_male_45_not_p = 0.02\n",
        "prob_male_45 = joint_prob_male_45_p + joint_prob_male_45_not_p\n",
        "conditional_prob_p_male_45 = joint_prob_male_45_p / prob_male_45 if prob_male_45 > 0 else 0\n",
        "print(f\"Conditional Probability (Purchased=1 | Age 45, Male): {conditional_prob_p_male_45}\")"
      ]
    },
    {
      "cell_type": "code",
      "execution_count": null,
      "metadata": {
        "id": "mwjWs0rs_tGt"
      },
      "outputs": [],
      "source": []
    },
    {
      "cell_type": "markdown",
      "metadata": {},
      "source": [
        "Conclusion : I have succesfully implemented Bayesian network and completeds all the assigmnets using joint probabiltity"
      ]
    },
    {
      "cell_type": "markdown",
      "metadata": {},
      "source": []
    }
  ],
  "metadata": {
    "colab": {
      "provenance": []
    },
    "kernelspec": {
      "display_name": "Python 3",
      "language": "python",
      "name": "python3"
    },
    "language_info": {
      "codemirror_mode": {
        "name": "ipython",
        "version": 3
      },
      "file_extension": ".py",
      "mimetype": "text/x-python",
      "name": "python",
      "nbconvert_exporter": "python",
      "pygments_lexer": "ipython3",
      "version": "3.6.3"
    }
  },
  "nbformat": 4,
  "nbformat_minor": 0
}
